{
 "cells": [
  {
   "cell_type": "code",
   "execution_count": 2,
   "metadata": {},
   "outputs": [],
   "source": [
    "import cv2\n",
    "import numpy as np\n",
    "from matplotlib import pyplot as plt"
   ]
  },
  {
   "cell_type": "code",
   "execution_count": 3,
   "metadata": {},
   "outputs": [],
   "source": [
    "def showImage(imgName, img):\n",
    "    cv2.imshow(imgName, img)\n",
    "    cv2.waitKey(0)\n",
    "    cv2.destroyAllWindows()"
   ]
  },
  {
   "cell_type": "code",
   "execution_count": null,
   "metadata": {},
   "outputs": [],
   "source": [
    "name=\"testImg.jpg\"\n",
    "originalImg=cv2.imread(name,cv2.IMREAD_COLOR)\n",
    "showImage('Original Image', originalImg)\n",
    "N = 3"
   ]
  },
  {
   "cell_type": "code",
   "execution_count": null,
   "metadata": {},
   "outputs": [],
   "source": [
    "def copy(img):\n",
    "  imageCopy=[]\n",
    "  for row in range(img.shape[0]):\n",
    "    newRow=[]\n",
    "    for col in range(img.shape[1]):\n",
    "      newPixel = []\n",
    "      for ch in range(img.shape[2]):\n",
    "        newPixel.append(img[row][col][ch])\n",
    "      newRow.append(newPixel)\n",
    "    imageCopy.append(newRow)\n",
    "  return imageCopy"
   ]
  },
  {
   "cell_type": "code",
   "execution_count": null,
   "metadata": {},
   "outputs": [],
   "source": [
    "def wrapEdges(img):\n",
    "    pixelsToWrap = N//2\n",
    "    imageCopy = copy(img)\n",
    "    imageCopy = list(imageCopy[-pixelsToWrap:]) + imageCopy  + imageCopy[:pixelsToWrap]\n",
    "    for row in range(len(imageCopy)):\n",
    "        imageCopy[row] = list(imageCopy[row][-pixelsToWrap:]) + imageCopy[row] + imageCopy[row][:pixelsToWrap]\n",
    "    return np.array(imageCopy,dtype=np.uint8)"
   ]
  },
  {
   "cell_type": "code",
   "execution_count": 7,
   "metadata": {},
   "outputs": [
    {
     "name": "stdout",
     "output_type": "stream",
     "text": [
      "The shape of the original image is :  (1046, 1500, 3)\n",
      "The shape of the wrapped image is :  (1048, 1502, 3)\n"
     ]
    }
   ],
   "source": [
    "wrappedImg = wrapEdges(originalImg)\n",
    "print(\"The shape of the original image is : \", originalImg.shape)\n",
    "print(\"The shape of the wrapped image is : \", wrappedImg.shape)"
   ]
  },
  {
   "cell_type": "code",
   "execution_count": 8,
   "metadata": {},
   "outputs": [],
   "source": [
    "showImage('Wrapped Image', wrappedImg)"
   ]
  },
  {
   "cell_type": "code",
   "execution_count": 21,
   "metadata": {},
   "outputs": [],
   "source": [
    "def getMeanFilterMask(N):\n",
    "    meanFilterMask = []\n",
    "    for row in range(N):\n",
    "        filterRow = [1]*N\n",
    "        meanFilterMask.append(filterRow)\n",
    "    return meanFilterMask"
   ]
  },
  {
   "cell_type": "code",
   "execution_count": 9,
   "metadata": {},
   "outputs": [],
   "source": [
    "#returns a copy of the image with fixed filter applied\n",
    "def linerFilteringWithFixedFilter(N, img):\n",
    "  meanFilterMask = getMeanFilterMask(N)\n",
    "  filteredImg = []\n",
    "  filterMid = len(filterMask)//2\n",
    "  for row in range(filterMid, len(img)-filterMid):\n",
    "    newRow = []\n",
    "    for col in range(filterMid, len(img[row])-filterMid):\n",
    "      values = [[],[],[]]\n",
    "      for i in range(len(filterMask)):\n",
    "        for j in  range(len(filterMask[i])):\n",
    "          for k in range(img.shape[2]):\n",
    "            values[k].append(img[row-filterMid+i][col-filterMid+j][k] * filterMask[i][j])\n",
    "      newRow.append([sum(values[0])/len(values[0]), sum(values[1])/len(values[1]), sum(values[2])/len(values[2])])\n",
    "    filteredImg.append(newRow)\n",
    "  return np.array(filteredImg,dtype=np.uint8)"
   ]
  },
  {
   "cell_type": "code",
   "execution_count": null,
   "metadata": {},
   "outputs": [],
   "source": [
    "def applyMedainFilter(N, img):\n",
    "  filteredImg = []\n",
    "  filterMid = N//2\n",
    "  for row in range(filterMid, len(img)-filterMid):\n",
    "    newRow = []\n",
    "    for col in range(filterMid, len(img[row])-filterMid):\n",
    "      values = [[],[],[]]\n",
    "      for i in range(N):\n",
    "        for j in  range(N):\n",
    "          for k in range(img.shape[2]):\n",
    "            values[k].append(img[row-filterMid+i][col-filterMid+j][k])\n",
    "      for k in range(img.shape[2]): \n",
    "        values[k].sort()\n",
    "      newRow.append([values[0][4], values[1][4], values[2][4]])\n",
    "    filteredImg.append(newRow)\n",
    "  return np.array(filteredImg,dtype=np.uint8)"
   ]
  },
  {
   "cell_type": "code",
   "execution_count": null,
   "metadata": {},
   "outputs": [],
   "source": [
    "def applyMidPointFilter(N, img):\n",
    "  filteredImg = []\n",
    "  filterMid = N//2\n",
    "  for row in range(filterMid, len(img)-filterMid):\n",
    "    newRow = []\n",
    "    for col in range(filterMid, len(img[row])-filterMid):\n",
    "      values = [[],[],[]]\n",
    "      for i in range(N):\n",
    "        for j in  range(N):\n",
    "          for k in range(img.shape[2]):\n",
    "            values[k].append(img[row-filterMid+i][col-filterMid+j][k])\n",
    "      for k in range(img.shape[2]): \n",
    "        values[k].sort()\n",
    "      newRow.append([(min(values[0]) + max(values[0])) / 2, (min(values[1]) + max(values[1])) / 2, (min(values[2]) + max(values[2])) / 2])\n",
    "    filteredImg.append(newRow)\n",
    "  return np.array(filteredImg,dtype=np.uint8)"
   ]
  },
  {
   "cell_type": "code",
   "execution_count": 23,
   "metadata": {},
   "outputs": [
    {
     "name": "stdout",
     "output_type": "stream",
     "text": [
      "The shape of the wrapped image is :  (1048, 1502, 3)\n",
      "The shape of the filtered image is :  (1046, 1500, 3)\n"
     ]
    }
   ],
   "source": [
    "meanFilteredImg = linerFilteringWithFixedFilter(meanFilterMask, wrappedImg)\n",
    "print(\"The shape of the wrapped image is : \", wrappedImg.shape)\n",
    "print(\"The shape of the filtered image is : \", meanFilteredImg.shape)"
   ]
  },
  {
   "cell_type": "code",
   "execution_count": null,
   "metadata": {},
   "outputs": [],
   "source": [
    "showImage('Mean Filtered Image', meanFilteredImg)"
   ]
  },
  {
   "cell_type": "code",
   "execution_count": null,
   "metadata": {},
   "outputs": [],
   "source": [
    "medianFilteredImg = applyMedainFilter(3, wrappedImg)\n",
    "print(\"The shape of the wrapped image is : \", wrappedImg.shape)\n",
    "print(\"The shape of the median filtered image is : \", medianFilteredImg.shape)"
   ]
  },
  {
   "cell_type": "code",
   "execution_count": null,
   "metadata": {},
   "outputs": [],
   "source": [
    "showImage('Medain Filtered Image', medianFilteredImg)"
   ]
  },
  {
   "cell_type": "code",
   "execution_count": null,
   "metadata": {},
   "outputs": [],
   "source": [
    "midPointFilteredImg = applyMidPointFilter(3, wrappedImg)\n",
    "print(\"The shape of the wrapped image is : \", wrappedImg.shape)\n",
    "print(\"The shape of the midPoint filtered image is : \", midPointFilteredImg.shape)"
   ]
  },
  {
   "cell_type": "code",
   "execution_count": null,
   "metadata": {},
   "outputs": [],
   "source": [
    "showImage('Mid Point Filtered Image', midPointFilteredImg)"
   ]
  },
  {
   "cell_type": "code",
   "execution_count": null,
   "metadata": {},
   "outputs": [],
   "source": []
  }
 ],
 "metadata": {
  "kernelspec": {
   "display_name": "Python 3 (ipykernel)",
   "language": "python",
   "name": "python3"
  },
  "language_info": {
   "codemirror_mode": {
    "name": "ipython",
    "version": 3
   },
   "file_extension": ".py",
   "mimetype": "text/x-python",
   "name": "python",
   "nbconvert_exporter": "python",
   "pygments_lexer": "ipython3",
   "version": "3.10.8"
  }
 },
 "nbformat": 4,
 "nbformat_minor": 1
}
