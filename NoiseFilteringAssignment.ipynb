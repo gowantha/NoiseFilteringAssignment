{
 "cells": [
  {
   "cell_type": "code",
   "execution_count": 7,
   "metadata": {},
   "outputs": [],
   "source": [
    "import cv2\n",
    "import numpy as np\n",
    "from matplotlib import pyplot as plt"
   ]
  },
  {
   "cell_type": "code",
   "execution_count": 8,
   "metadata": {},
   "outputs": [],
   "source": [
    "def showImage(imgName, img):\n",
    "    cv2.imshow(imgName, img)\n",
    "    cv2.waitKey(0)\n",
    "    cv2.destroyAllWindows()"
   ]
  },
  {
   "cell_type": "code",
   "execution_count": 9,
   "metadata": {},
   "outputs": [],
   "source": [
    "name=\"testImg.jpg\"\n",
    "originalImg=cv2.imread(name,cv2.IMREAD_COLOR)\n",
    "showImage('Original Image', originalImg)"
   ]
  },
  {
   "cell_type": "code",
   "execution_count": 10,
   "metadata": {},
   "outputs": [],
   "source": [
    "def copy(img):\n",
    "  imageCopy=[]\n",
    "  for row in range(img.shape[0]):\n",
    "    newRow=[]\n",
    "    for col in range(img.shape[1]):\n",
    "        newRow.append(img[row][col])\n",
    "    imageCopy.append(newRow)\n",
    "  return imageCopy"
   ]
  },
  {
   "cell_type": "code",
   "execution_count": 11,
   "metadata": {},
   "outputs": [],
   "source": [
    "N = 3\n",
    "def wrapEdges(img):\n",
    "    pixelsToWrap = N//2\n",
    "    imageCopy = copy(img)\n",
    "    imageCopy = list(reversed(imageCopy[-pixelsToWrap:])) + imageCopy  + imageCopy[:pixelsToWrap]\n",
    "    for row in range(len(imageCopy)): \n",
    "        imageCopy[row] = list(reversed(imageCopy[row][-pixelsToWrap:])) + imageCopy[row] + imageCopy[row][:pixelsToWrap]\n",
    "    return np.array(imageCopy,dtype=np.uint8)"
   ]
  },
  {
   "cell_type": "code",
   "execution_count": 12,
   "metadata": {},
   "outputs": [
    {
     "name": "stdout",
     "output_type": "stream",
     "text": [
      "The shape of the original image is :  (1046, 1500, 3)\n",
      "The shape of the wrapped image is :  (1048, 1502, 3)\n"
     ]
    }
   ],
   "source": [
    "wrappedImg = wrapEdges(originalImg)\n",
    "print(\"The shape of the original image is : \", originalImg.shape)\n",
    "print(\"The shape of the wrapped image is : \", wrappedImg.shape)"
   ]
  },
  {
   "cell_type": "code",
   "execution_count": 13,
   "metadata": {},
   "outputs": [],
   "source": [
    "showImage('Wrapped Image', wrappedImg)"
   ]
  },
  {
   "cell_type": "code",
   "execution_count": null,
   "metadata": {},
   "outputs": [],
   "source": []
  }
 ],
 "metadata": {
  "kernelspec": {
   "display_name": "Python 3 (ipykernel)",
   "language": "python",
   "name": "python3"
  },
  "language_info": {
   "codemirror_mode": {
    "name": "ipython",
    "version": 3
   },
   "file_extension": ".py",
   "mimetype": "text/x-python",
   "name": "python",
   "nbconvert_exporter": "python",
   "pygments_lexer": "ipython3",
   "version": "3.10.8"
  }
 },
 "nbformat": 4,
 "nbformat_minor": 1
}
